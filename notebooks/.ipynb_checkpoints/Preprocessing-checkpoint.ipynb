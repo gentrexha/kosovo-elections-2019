{
 "cells": [
  {
   "cell_type": "code",
   "execution_count": 2,
   "metadata": {},
   "outputs": [
    {
     "name": "stdout",
     "output_type": "stream",
     "text": [
      "C:\\Projects\\Personal\\kosovo-elections-2019\\notebooks\n"
     ]
    }
   ],
   "source": [
    "import os\n",
    "\n",
    "print(os.getcwd())"
   ]
  },
  {
   "cell_type": "code",
   "execution_count": 27,
   "metadata": {},
   "outputs": [],
   "source": [
    "from pathlib import Path\n",
    "import pandas as pd\n",
    "\n",
    "df_all = pd.DataFrame(columns=[\"Subjekti Politik\",\"Numri i votave\",\"Përqindja e votave të vlefshme\",\"Komuna\"])\n",
    "\n",
    "pathlist = Path('../data/raw/municipalities/').glob('*.csv')\n",
    "for path in pathlist:\n",
    "    # because path is object not string\n",
    "    path_in_str = str(path)\n",
    "    df = pd.read_table(path, sep = \",\", thousands=\".\")\n",
    "    df = df.drop(\"Unnamed: 0\", axis=1)\n",
    "    df[\"Komuna\"] = path_in_str[27:path_in_str.find(\".csv\")]\n",
    "    df[\"Përqindja e votave të vlefshme\"] = pd.to_numeric(\n",
    "        df[\"Përqindja e votave të vlefshme\"].replace(\",\",\".\", regex=True).str[:-1]\n",
    "    )\n",
    "    df[\"Subjekti Politik\"] = df[\"Subjekti Politik\"].str[5:]\n",
    "    df_all = df_all.append(df, ignore_index=True)"
   ]
  },
  {
   "cell_type": "code",
   "execution_count": 28,
   "metadata": {},
   "outputs": [],
   "source": [
    "df_all.to_csv(\"../data/interim/municipalities_2019.csv\", index=False)"
   ]
  }
 ],
 "metadata": {
  "kernelspec": {
   "display_name": "Python 3",
   "language": "python",
   "name": "python3"
  },
  "language_info": {
   "codemirror_mode": {
    "name": "ipython",
    "version": 3
   },
   "file_extension": ".py",
   "mimetype": "text/x-python",
   "name": "python",
   "nbconvert_exporter": "python",
   "pygments_lexer": "ipython3",
   "version": "3.6.9"
  }
 },
 "nbformat": 4,
 "nbformat_minor": 2
}
